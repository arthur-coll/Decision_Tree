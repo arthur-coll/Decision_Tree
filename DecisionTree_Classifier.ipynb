{
  "nbformat": 4,
  "nbformat_minor": 0,
  "metadata": {
    "colab": {
      "name": "DecisionTree Classifier.ipynb",
      "provenance": [],
      "collapsed_sections": []
    },
    "kernelspec": {
      "name": "python3",
      "display_name": "Python 3"
    },
    "language_info": {
      "name": "python"
    }
  },
  "cells": [
    {
      "cell_type": "markdown",
      "source": [
        "## **Group Project:** Implementing Decision Tree from scratch"
      ],
      "metadata": {
        "id": "Dh_mYW-kjtXd"
      }
    },
    {
      "cell_type": "code",
      "execution_count": 25,
      "metadata": {
        "id": "UllKKU5mjoAP"
      },
      "outputs": [],
      "source": [
        "import numpy as np\n",
        "from collections import Counter"
      ]
    },
    {
      "cell_type": "markdown",
      "source": [
        "Let's First Implement our loss function the entropy, we could have also use Gini impurity."
      ],
      "metadata": {
        "id": "tCkgUjmGH_gN"
      }
    },
    {
      "cell_type": "code",
      "source": [
        "def entropy(y):\n",
        "  \"\"\" \n",
        "  For a given list of class (integers), return the entropy.\n",
        "  Exemple: [0,0,1,0,2,1] should out 1.45\n",
        "  \"\"\"\n",
        "  count = np.bincount(y)\n",
        "  # Count number of occurrences of each value in array of non-negative ints.\n",
        "  scaled = count/len(y)\n",
        "  # Return entropy\n",
        "  return -np.sum([i*np.log2(i) for i in scaled if i>0])"
      ],
      "metadata": {
        "id": "FGfZzUiVjr9l"
      },
      "execution_count": 26,
      "outputs": []
    },
    {
      "cell_type": "code",
      "source": [
        "\"\"\" Let's test it out with an exemple:\n",
        "[0,0,1,0,2,1]\n",
        "Class 0: p(0)=1/2 log(1/2)=-1\n",
        "Class 1: p(1)=1/3 log(1/3)=-1.58\n",
        "Class 2: p(2)=1/6 log(1/6)=-2.58\n",
        "Entropy =1.45\n",
        "\"\"\"\n",
        "exemple= [0,0,1,0,2,1]\n",
        "entropy(exemple)"
      ],
      "metadata": {
        "colab": {
          "base_uri": "https://localhost:8080/"
        },
        "id": "e9U4LATklfPD",
        "outputId": "ad676f52-d51d-4f6a-dc71-47f1b9e071c1"
      },
      "execution_count": 27,
      "outputs": [
        {
          "output_type": "execute_result",
          "data": {
            "text/plain": [
              "1.4591479170272448"
            ]
          },
          "metadata": {},
          "execution_count": 27
        }
      ]
    },
    {
      "cell_type": "markdown",
      "source": [
        "Let's define our first class: **Node**, which is more an helper class that will be used during the tree growing."
      ],
      "metadata": {
        "id": "gYCxIvqcIJN8"
      }
    },
    {
      "cell_type": "code",
      "source": [
        "class Node:\n",
        "  \"\"\"\n",
        "  Store information for our node\n",
        "  \"\"\"\n",
        "  def __init__(self,feature=None,threshold=None, left=None, right=None,*,value=None):\n",
        "      \"\"\"\n",
        "      feature: the feature used to make the split\n",
        "      threshold : the threshold valued used to make the split\n",
        "      right: which node is the right split\n",
        "      left: which node is the left split\n",
        "      value: if it's the terminal node, store what is the majority class\n",
        "      \"\"\"\n",
        "      self.feature = feature\n",
        "      self.threshold = threshold\n",
        "      self.left = left\n",
        "      self.right = right\n",
        "      self.value = value\n",
        "\n",
        "  def is_leaf_node(self):\n",
        "      #Check if it's a leaf/terminal node: return boolean\n",
        "      return self.value is not None"
      ],
      "metadata": {
        "id": "kxSf1lYvnviC"
      },
      "execution_count": 48,
      "outputs": []
    },
    {
      "cell_type": "markdown",
      "source": [
        "Let's define our second class: **DecisionTree**.  \n",
        "It's a complex class, that grow a tree recursively. We tried to divide into helper functions and commenting extensively to make the code clearer."
      ],
      "metadata": {
        "id": "QdX5DVjQIXSi"
      }
    },
    {
      "cell_type": "code",
      "source": [
        "class DecisionTree:\n",
        "\n",
        "  def __init__(self,min_samples_split=2,max_depth=10, n_feats=None):\n",
        "    \"\"\"\n",
        "    Input:\n",
        "      min_samples_split: How many minimum samples to keep on growing the tree, 2 by default\n",
        "      max_depth: maximum depth of the tree, 10 by default\n",
        "      n_feats: how many features would be used, if we don't use all of them. We could use a random subset of them, such as in random forest.\n",
        "    \"\"\"\n",
        "    self.min_samples_split = min_samples_split\n",
        "    self.max_depth = max_depth\n",
        "    self.n_feats = n_feats\n",
        "    self.root = None\n",
        "\n",
        "\n",
        "  def fit(self, X, y):\n",
        "    \"\"\"\n",
        "    Train the tree on the training data set\n",
        "    Input:\n",
        "      X: input\n",
        "      y: classes\n",
        "    \"\"\"\n",
        "    #Check if the n_feats is equal to the number of features in the input(X). If it's not the case it takes the minimum beetween the 2.\n",
        "    self.n_feats = X.shape[1] if not self.n_feats else min(self.n_feats, X.shape[1])\n",
        "    #Call the _grow_tree method\n",
        "    self.root = self._grow_tree(X,y)\n",
        "\n",
        "\n",
        "  def _grow_tree(self,X, y, depth=0):\n",
        "    \"\"\"\n",
        "    Grow the tree recursively and taking care of the stopping criterias.\n",
        "    Input:\n",
        "      X: input\n",
        "      y: classes\n",
        "      depth: the actural depth of the tree, use to keep track\n",
        "    Output: \n",
        "      The decision tree created recursively with multiple nodes.\n",
        "    \"\"\"\n",
        "\n",
        "    n_samples= X.shape[0] #Size of training set\n",
        "    n_features = X.shape[1] #Number of features\n",
        "    n_labels = len(np.unique(y)) #Number of diffrent classes\n",
        "\n",
        "    #Check the 3 stopping criterion, if one of them is fullfill, we are at a leaf node\n",
        "    if (depth >= self.max_depth or n_labels==1 or n_samples < self.min_samples_split):\n",
        "      leaf_value=self._most_common_label(y)\n",
        "      return Node(value = leaf_value)\n",
        "\n",
        "    #In the case we are not using all featurs, select randomly the index of the usen features\n",
        "    feat_idxs = np.random.choice(n_features, self.n_feats, replace = False)\n",
        "\n",
        "    #Using the _best_criteria method to grab the best feature and threshold for the split\n",
        "    best_feat, best_thresh = self._best_criteria(X,y, feat_idxs)\n",
        "\n",
        "    #Find indices after the split\n",
        "    left_idxs = np.argwhere(X[:,best_feat]<= best_thresh).flatten()\n",
        "    right_idxs = np.argwhere(X[:,best_feat]> best_thresh).flatten()\n",
        "\n",
        "    #Grow recursively, using only the concerned rows indexes and incrementing the depth\n",
        "    left = self._grow_tree(X[left_idxs,:], y[left_idxs], depth+1)\n",
        "    right = self._grow_tree(X[right_idxs,:], y[right_idxs], depth+1)\n",
        "    return Node(best_feat, best_thresh, left, right)\n",
        "\n",
        "  def _most_common_label(self,y):\n",
        "    \"\"\"\n",
        "    From a list of label, return the most common one\n",
        "    Input:\n",
        "      y: list of classes\n",
        "    Ouput:\n",
        "      most_common: the most common label in the list\n",
        "    \"\"\"\n",
        "    counter = Counter(y) #Return the number of occurences for each label, using counter from library\n",
        "    most_common = counter.most_common(1)[0][0] #Return the value of the most frequent label\n",
        "    return most_common\n",
        "\n",
        "  def _best_criteria(self,X, y, feat_idxs):\n",
        "    \"\"\"\n",
        "    Do a greedy search among all features and all possible threshold to find the best split.\n",
        "    Input:\n",
        "      X: input\n",
        "      y: classes\n",
        "      feat_idxs: index of the features we will use\n",
        "    Output:\n",
        "      split_idx: best feature  to maximize information gain\n",
        "      split_thresh: best threshold value to maximize Informaton gain\n",
        "    \"\"\"\n",
        "    best_gain= -1 #Setting up with the lower gain\n",
        "    split_idx, split_thresh = None,None #Setting up variables\n",
        "\n",
        "    for feat_idx in feat_idxs: #Iterating in all features\n",
        "      X_column = X[:, feat_idx] #Keep input for this feature\n",
        "      thresholds = np.unique(X_column) #Remove duplicate to avoid testing same split multiple time\n",
        "      for threshold in thresholds: #Test every  possible thresholds\n",
        "        gain= self._information_gain(y,X_column, threshold) #Compute the information gain fo this threshold\n",
        "\n",
        "        #If the gain is better than previous best, keep it in memory.\n",
        "        if gain > best_gain:\n",
        "          best_gain = gain\n",
        "          split_idx = feat_idx\n",
        "          split_thresh = threshold\n",
        "\n",
        "    return split_idx,split_thresh\n",
        "\n",
        "\n",
        "  def _information_gain(self, y, X_column, split_thresh):\n",
        "    \"\"\"\n",
        "    We compute the information gain for a given split. \n",
        "    We use the formula of the information gain: Parent_entropy minus Weighted_Average of children's entropy.\n",
        "    Input:\n",
        "      X_column: the data for a given feature\n",
        "      y: corresponding classes\n",
        "      split_thresh: the threshold used here\n",
        "    Output:\n",
        "      Information gain with this split\n",
        "    \"\"\"\n",
        "    #Compute parent entropy using the formula written before\n",
        "    parent_entropy = entropy(y)\n",
        "    #Retrieve the left and right index after the split\n",
        "    left_idxs = np.argwhere(X_column <= split_thresh).flatten()\n",
        "    right_idxs = np.argwhere(X_column > split_thresh).flatten()\n",
        "\n",
        "    #If the split doesn't produce 2 groups, forget about it.\n",
        "    if len(left_idxs) == 0 or len(right_idxs)==0:\n",
        "      return 0\n",
        "\n",
        "    #Compute entropy of the children nodes\n",
        "    entropy_left = entropy(y[left_idxs])\n",
        "    entropy_right = entropy(y[right_idxs])\n",
        "\n",
        "    #Compute total information gain:\n",
        "    n = len(y)\n",
        "    n_l, n_r = len(left_idxs), len(right_idxs)\n",
        "    return parent_entropy - ((n_l/n)*entropy_left + (n_r/n)*entropy_right)\n",
        "\n",
        "\n",
        "  def predict(self, X):\n",
        "    \"\"\"\n",
        "    Do predictions on the test data set going through the tree\n",
        "    Input:\n",
        "      X: List of inputs to predict\n",
        "    Output:\n",
        "      np array of the predicted labels\n",
        "    \"\"\"\n",
        "    return np.array([self._traverse_tree(x,self.root) for x in X])\n",
        "\n",
        "  def _traverse_tree(self,x,node):\n",
        "    \"\"\"\n",
        "    Do prediction by going through the tree recursively starting from the root to the leaves\n",
        "    Input:\n",
        "      x: single input to predict\n",
        "    Output:\n",
        "      The label of the final node reached after traversing the tree\n",
        "    \"\"\"\n",
        "    if node.is_leaf_node(): #Stppoing criterion, if the node is a leaf, we retrieve the value and stop the recursion.\n",
        "      return node.value\n",
        "    \n",
        "    #Check for the given split in the node (feature, threshold), if we should continue the recursion with the left node or the right node.\n",
        "    if x[node.feature] <= node.threshold:\n",
        "      return self._traverse_tree(x,node.left) #Continue the traverse with the left node\n",
        "\n",
        "    return self._traverse_tree(x,node.right) #Continue the traverse with the right node"
      ],
      "metadata": {
        "id": "hYEQ7dYLpV5O"
      },
      "execution_count": 83,
      "outputs": []
    },
    {
      "cell_type": "markdown",
      "source": [
        "## **Let's test our implementation:**"
      ],
      "metadata": {
        "id": "SfL0SpKU9RFd"
      }
    },
    {
      "cell_type": "code",
      "metadata": {
        "colab": {
          "base_uri": "https://localhost:8080/"
        },
        "outputId": "6f679ab1-b9ab-4439-8f19-127833d5e570",
        "id": "80q5IRBdE_lS"
      },
      "source": [
        "from sklearn.datasets import load_breast_cancer\n",
        "from sklearn import model_selection\n",
        "from sklearn.metrics import accuracy_score\n",
        "\n",
        "cancer = load_breast_cancer()\n",
        "X_train, X_test, y_train, y_test = model_selection.train_test_split(cancer.data, cancer.target, test_size=0.20, random_state=0)\n",
        "\n",
        "clf = DecisionTree(max_depth=10)\n",
        "clf.fit(X_train, y_train)\n",
        "\n",
        "y_pred=clf.predict(X_test)\n",
        "print(\"Accuracy:\", accuracy_score(y_test,y_pred))"
      ],
      "execution_count": 68,
      "outputs": [
        {
          "output_type": "stream",
          "name": "stdout",
          "text": [
            "Accuracy: 0.9385964912280702\n"
          ]
        }
      ]
    },
    {
      "cell_type": "markdown",
      "source": [
        "Let's try to compare with the decision tree implemented in sklearn"
      ],
      "metadata": {
        "id": "rhkCeuFGD2gV"
      }
    },
    {
      "cell_type": "code",
      "source": [
        "from sklearn import tree\n",
        "\n",
        "my_accu=[]\n",
        "sk_accu=[]\n",
        "tested_depth=list(range(1,16))\n",
        "\n",
        "for i in tested_depth:\n",
        "\n",
        "  #sk accuracy\n",
        "  sk = tree.DecisionTreeClassifier(max_depth=i)\n",
        "  sk = sk.fit(X_train, y_train)\n",
        "  y_pred = sk.predict(X_test)\n",
        "  sk_accu.append(accuracy_score(y_test,y_pred))\n",
        "\n",
        "  #Our Accuracy\n",
        "  clf = DecisionTree(max_depth=i)\n",
        "  clf.fit(X_train, y_train)\n",
        "  y_pred=clf.predict(X_test)\n",
        "  my_accu.append(accuracy_score(y_test,y_pred))"
      ],
      "metadata": {
        "id": "LhMtP7QLC6NF"
      },
      "execution_count": 78,
      "outputs": []
    },
    {
      "cell_type": "code",
      "source": [
        "import matplotlib.pyplot as plt\n",
        "\n",
        "#Plotting the comparison\n",
        "plt.plot(tested_depth,my_accu, label = \"Our Implementation\")\n",
        "plt.plot(tested_depth,sk_accu, label = \"SK Learn\")\n",
        "\n",
        "plt.xlabel('Depth of the tree')\n",
        "plt.ylabel('Accuracy (in %)')\n",
        "plt.title('Comparing Performance of our implementation')\n",
        "\n",
        "plt.legend()\n",
        "plt.show()"
      ],
      "metadata": {
        "colab": {
          "base_uri": "https://localhost:8080/",
          "height": 295
        },
        "id": "WJjprNEAGv3_",
        "outputId": "97aef008-8761-4404-949d-ab3823c8683f"
      },
      "execution_count": 82,
      "outputs": [
        {
          "output_type": "display_data",
          "data": {
            "image/png": "[encoded data removed]",
            "text/plain": [
              "<Figure size 432x288 with 1 Axes>"
            ]
          },
          "metadata": {
            "needs_background": "light"
          }
        }
      ]
    }
  ]
}